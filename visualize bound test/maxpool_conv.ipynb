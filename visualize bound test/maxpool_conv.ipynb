{
 "cells": [
  {
   "cell_type": "code",
   "execution_count": 7,
   "metadata": {},
   "outputs": [],
   "source": [
    "import numpy as np\n",
    "import torch.nn as nn\n",
    "import torch.nn.functional as F\n",
    "from torchvision import transforms\n",
    "import torchvision.transforms.functional as f\n",
    "import torch.utils.data as Data\n",
    "from torch.utils.data import Dataset, DataLoader\n",
    "from torchvision import transforms, utils\n",
    "from torch.autograd import Variable\n",
    "import torch\n",
    "import random"
   ]
  },
  {
   "cell_type": "code",
   "execution_count": 123,
   "metadata": {},
   "outputs": [],
   "source": [
    "# ### 3-layers\n",
    "# x = torch.randn(1,3,2,2)\n",
    "# epsilon = 0.01\n",
    "# model = nn.Sequential(\n",
    "#     nn.Conv2d(3,2,2,1,2),\n",
    "#     nn.ReLU(),\n",
    "#     nn.MaxPool2d(3),\n",
    "#     nn.Conv2d(2,3,2,2,2),\n",
    "#     nn.ReLU(),\n",
    "#     nn.MaxPool2d(2),\n",
    "#     nn.Conv2d(3,1,2,1,1)\n",
    "# )\n",
    "\n",
    "\n",
    "# y = model(x)\n",
    "# print('y:',y.shape)"
   ]
  },
  {
   "cell_type": "code",
   "execution_count": 124,
   "metadata": {},
   "outputs": [
    {
     "name": "stdout",
     "output_type": "stream",
     "text": [
      "y: torch.Size([1, 1, 1, 1])\n"
     ]
    }
   ],
   "source": [
    "x = torch.randn(1,3,2,2)\n",
    "epsilon = 0.01\n",
    "model = nn.Sequential(\n",
    "    nn.Conv2d(3,2,2,1,2),\n",
    "    nn.ReLU(),\n",
    "    nn.MaxPool2d(3),\n",
    "    nn.Conv2d(2,1,2,2,1),\n",
    ")\n",
    "\n",
    "\n",
    "y = model(x)\n",
    "\n",
    "#print('x:',x.data)\n",
    "#print('\\n')\n",
    "print('y:',y.shape)"
   ]
  },
  {
   "cell_type": "code",
   "execution_count": 125,
   "metadata": {},
   "outputs": [],
   "source": [
    "# x = torch.randn(1,1,4,4)\n",
    "# epsilon = 0.8\n",
    "# model = nn.Sequential(\n",
    "#     nn.Conv2d(1,2,2,1,0),\n",
    "#     nn.ReLU(),\n",
    "#     nn.MaxPool2d(2),\n",
    "#     nn.Conv2d(2,1,2,1,1),\n",
    "# )\n",
    "\n",
    "\n",
    "# y = model(x)\n",
    "# y"
   ]
  },
  {
   "cell_type": "markdown",
   "metadata": {},
   "source": [
    "### backward"
   ]
  },
  {
   "cell_type": "code",
   "execution_count": 126,
   "metadata": {},
   "outputs": [],
   "source": [
    "# def get_upper_lower"
   ]
  },
  {
   "cell_type": "markdown",
   "metadata": {},
   "source": [
    "### get middle upper lower bounds"
   ]
  },
  {
   "cell_type": "code",
   "execution_count": 127,
   "metadata": {},
   "outputs": [],
   "source": [
    "def get_lR_uR(zl,zu):\n",
    "    \n",
    "    uR = (zu > 0).detach().type_as(zu) * zu\n",
    "    lR = (zl > 0).detach().type_as(zl) * zl\n",
    "    \n",
    "    return uR, lR"
   ]
  },
  {
   "cell_type": "markdown",
   "metadata": {},
   "source": [
    "### Find D matrix"
   ]
  },
  {
   "cell_type": "code",
   "execution_count": 128,
   "metadata": {},
   "outputs": [],
   "source": [
    "def get_matrix_d(zl,zu):\n",
    "    \n",
    "    d = (zl >= 0).detach().type_as(zl) # d check each point in I+ set\n",
    "    I = ((zu > 0).detach() * (zl < 0).detach()) # I check each point in I set\n",
    "\n",
    "    if I.sum().item() > 0:\n",
    "            d[I] += zu[I]/(zu[I] - zl[I])\n",
    "    \n",
    "    d = d.t() # create the D matrix(in paper)\n",
    "    \n",
    "    return d"
   ]
  },
  {
   "cell_type": "code",
   "execution_count": 129,
   "metadata": {},
   "outputs": [],
   "source": [
    "def premute_pixels(lR, uR, kM):\n",
    "    \n",
    "    kh, kw = kM, kM  # kernel size\n",
    "    dh, dw = kM, kM  # stride\n",
    "    \n",
    "    lR_patches = lR.unfold(2, kh, dh).unfold(3, kw, dw)\n",
    "    uR_patches = uR.unfold(2, kh, dh).unfold(3, kw, dw)\n",
    "    \n",
    "    unfold_shape = lR_patches.size()\n",
    "    \n",
    "    lR_patches = lR_patches.contiguous().view(lR_patches.size(0), -1, kh*kw)\n",
    "    uR_patches = uR_patches.contiguous().view(uR_patches.size(0), -1, kh*kw)\n",
    "    \n",
    "    return uR_patches, lR_patches, unfold_shape"
   ]
  },
  {
   "cell_type": "code",
   "execution_count": 130,
   "metadata": {},
   "outputs": [],
   "source": [
    "LM_bds = []\n",
    "UM_bds = []\n",
    "\n",
    "def get_bar_u_l(lR, uR, reshape_size, kernel_size_M):\n",
    "    \n",
    "    lR = lR.contiguous().view(*reshape_size)\n",
    "    uR = uR.contiguous().view(*reshape_size)\n",
    "    \n",
    "    # permute the pixels which using for max-pool\n",
    "    uR, lR, unfold_shape = premute_pixels(lR, uR, kernel_size_M)\n",
    "    \n",
    "    #print('new lR:',lR.size()) #lR size(1,8,4)\n",
    "    \n",
    "    n = lR.size(1)\n",
    "    lM = torch.zeros(1,n)\n",
    "    uM = torch.zeros(1,n)\n",
    "    \n",
    "    L_bar_bds = []\n",
    "    U_bar_bds = []\n",
    "    \n",
    "    pixels_len = kernel_size_M * kernel_size_M # 每次kernel經過的pixel數\n",
    "    \n",
    "    for idx in range(pixels_len):\n",
    "        #print(lR[:,:,idx])\n",
    "        \n",
    "        # get l_bar , u_bar\n",
    "        l_bar = lR[:,:,idx] - uM\n",
    "        u_bar = uR[:,:,idx] - lM\n",
    "        \n",
    "        L_bar_bds.append(l_bar)\n",
    "        U_bar_bds.append(u_bar)\n",
    "        \n",
    "        # get l', u'\n",
    "        l_ = (l_bar > 0).detach().type_as(l_bar) * l_bar\n",
    "        u_ = (u_bar > 0).detach().type_as(u_bar) * u_bar\n",
    "        \n",
    "        # get new lM, uM\n",
    "        lM = lM + l_\n",
    "        uM = uM + u_\n",
    "    \n",
    "    L_bar = torch.stack(L_bar_bds, dim = 0)\n",
    "    U_bar = torch.stack(U_bar_bds, dim = 0)\n",
    "    \n",
    "    #print('L_bar_bds:',L_bar_bds)\n",
    "    #print('L_bar:',L_bar)\n",
    "    \n",
    "    ### use for test maxpool layer's upper/lower bound\n",
    "    LM_bds.append(lM)\n",
    "    UM_bds.append(uM)\n",
    "    \n",
    "    return U_bar, L_bar"
   ]
  },
  {
   "cell_type": "code",
   "execution_count": 131,
   "metadata": {},
   "outputs": [],
   "source": [
    "def get_Kappa(Rho, d_bar, unfold_shape, pad_num):\n",
    "    \n",
    "    list_Kappa = []\n",
    "    \n",
    "    #print('Rho :',Rho.shape)\n",
    "    #print('d_bar:',d_bar.shape)\n",
    "    for idx in range(d_bar.size(0)-1,-1,-1):\n",
    "        kappa = d_bar[idx]*Rho\n",
    "        Rho -= kappa\n",
    "        list_Kappa.append(kappa)\n",
    "    \n",
    "    #print('list_Kappa:\\n',list_Kappa)\n",
    "    \n",
    "    Kappa = torch.stack(list_Kappa, dim = 1)\n",
    "    Kappa = torch.flip(Kappa,[1])\n",
    "    #print('flip kappa:',torch.sum(Kappa.clamp(min = 0),(3,2,1)))\n",
    "    kappa_hat = Kappa\n",
    "    \n",
    "    Kappa = Kappa.permute(0,2,3,1)\n",
    "    #print('Kappa [1]:\\n',Kappa[3])\n",
    "\n",
    "    Kappa_orig = Kappa.view(Kappa.size(0),*unfold_shape[1:])\n",
    "    \n",
    "    output_h = unfold_shape[2] * unfold_shape[4]\n",
    "    output_w = unfold_shape[3] * unfold_shape[5]\n",
    "    \n",
    "    Kappa_orig = Kappa_orig.permute(0, 1, 2, 4, 3, 5).contiguous()\n",
    "    Kappa_orig = Kappa_orig.view(Kappa.size(0), unfold_shape[1], output_h, output_w)\n",
    "    \n",
    "    # padding\n",
    "    p1d = (0,pad_num,0,pad_num)\n",
    "    Kappa_orig = F.pad(Kappa_orig, p1d, \"constant\", 0) \n",
    "    \n",
    "    #print('Kappa_orig [3]:\\n',Kappa_orig[3])\n",
    "    \n",
    "    return Kappa_orig, kappa_hat"
   ]
  },
  {
   "cell_type": "code",
   "execution_count": 132,
   "metadata": {},
   "outputs": [],
   "source": [
    "# backward \n",
    "    \n",
    "def get_upper_lower(x, epsilon, model, out_layer_size, \n",
    "                    D = None, Lower = None, Upper = None, \n",
    "                    D_bar = None, bar_Lower = None, bar_Upper = None):\n",
    "    \n",
    "    nu = []\n",
    "    n = out_layer_size[-1][1]*out_layer_size[-1][2]*out_layer_size[-1][3]\n",
    "    nu.append(torch.eye(n).view(n,*out_layer_size[-1][1:]))\n",
    "        \n",
    "    nu_b = []\n",
    "    nu_x = [x]\n",
    "    l1 = []\n",
    "    Big_Kappa = []\n",
    "    \n",
    "    upper_max_pool_term = []\n",
    "    lower_max_pool_term = []\n",
    "    \n",
    "    upper_relu_term = []\n",
    "    lower_relu_term = []\n",
    "    \n",
    "\n",
    "    model_len = len(out_layer_size)\n",
    "    \n",
    "    #print('n,nu.size():',n,nu[-1].size())\n",
    "    #print('out_layer_size:',out_layer_size)\n",
    "    \n",
    "    \n",
    "    if D != None :\n",
    "        pos_Upper = len(Upper) - 1\n",
    "        pos_Lower = len(Lower) - 1\n",
    "        pos_bar_U = len(bar_Upper) - 1\n",
    "        pos_bar_L = len(bar_Lower) - 1\n",
    "        pos_d = len(D) - 1\n",
    "        pos_bar_d = len(D_bar) -1\n",
    "    \n",
    "    for idx, layer in enumerate(reversed(model)):\n",
    "        \n",
    "        \n",
    "        if isinstance(layer, nn.Conv2d):\n",
    "\n",
    "            ### declare the nus\n",
    "            pos = (model_len - 1) - idx\n",
    "            flat_num = out_layer_size[pos][1]*out_layer_size[pos][2]*out_layer_size[pos][3]\n",
    "\n",
    "\n",
    "            # accroding to this layer's output picture size (output means the forward result via this layer)\n",
    "            # 每張圖被 flat 成 vector 後 ，vector中所含的 neuro數，為每張圖的 total neuros = W*H*Chl\n",
    "            nus = nu[-1].flatten().view(n,flat_num).t() \n",
    "\n",
    "            ### get the weight and bias\n",
    "\n",
    "            in_chl = layer.out_channels\n",
    "            out_chl = layer.in_channels\n",
    "            kernel_size = layer.kernel_size[0]\n",
    "            stride = layer.stride[0]\n",
    "            pad = layer.padding[0]\n",
    "\n",
    "            in_size = out_layer_size[pos-1][2]\n",
    "            out_size = out_layer_size[pos][2]\n",
    "\n",
    "            out_pad = in_size - (out_size -1)* stride + 2*pad - kernel_size\n",
    "\n",
    "            dc = nn.ConvTranspose2d(in_chl,out_chl,kernel_size,stride,pad,bias = False,output_padding = out_pad)\n",
    "            dc.weight = layer.weight\n",
    "            b = layer.bias\n",
    "            b = b.view(b.size()[0],1).expand(b.size()[0],out_layer_size[pos][2]*out_layer_size[pos][3])\n",
    "            b = b.flatten().unsqueeze(0)\n",
    "            ### get nu and nu_b\n",
    "\n",
    "            nu_b.append(torch.mm(b,nus))\n",
    "            nu.append(dc(nu[-1]))\n",
    "\n",
    "            print('dc nu:',nu[-1].size())\n",
    "            #print('nu_b:',nu_b[-1].size())\n",
    "        \n",
    "        if isinstance(layer, nn.MaxPool2d):\n",
    "            print('max-pool')\n",
    "            \n",
    "            # get unfold shape\n",
    "            pos = (model_len - 1) - idx - 1 \n",
    "            temp = torch.rand(*(out_layer_size[pos])) # out_layer_size[pos] is size after ReLU layer (f_l) \n",
    "            \n",
    "            kM = layer.kernel_size\n",
    "            kh, kw = kM, kM  # kernel size\n",
    "            dh, dw = kM, kM  # stride\n",
    "            \n",
    "            patches = temp.unfold(2, kh, dh).unfold(3, kw, dw)\n",
    "            unfold_shape = patches.size()\n",
    "            \n",
    "            # get kappa\n",
    "            Beta = nu[-1].view(n,1,-1)\n",
    "            Rho = Beta\n",
    "            # prepare for padding size\n",
    "            N_l = out_layer_size[pos+1][2] # out_layer_size[pos] is size after max-pool layer (N_l) \n",
    "            f_l = out_layer_size[pos][2]   # out_layer_size[pos] is size after ReLU layer (f_l) \n",
    "            r_l = 2*N_l + kM -2\n",
    "            pad_num = f_l - r_l\n",
    "            \n",
    "            Kappa_orig, kappa_hat = get_Kappa(Rho, D_bar[pos_bar_d], unfold_shape, pad_num)\n",
    "            print('Kappa_orig:',Kappa_orig.shape)\n",
    "            Big_Kappa.append(Kappa_orig)\n",
    "            \n",
    "            # count max_pool_term\n",
    "            bar_I = ((bar_Upper[pos_bar_U] > 0).detach() * (bar_Lower[pos_bar_L] < 0).detach()).float()\n",
    "            \n",
    "            upper_max_pool_term.append( torch.sum( bar_Lower[pos_bar_L]*(bar_I*kappa_hat).clamp(0), (3,2,1) ) )\n",
    "            lower_max_pool_term.append( torch.sum( bar_Lower[pos_bar_L]*(-1*bar_I*kappa_hat).clamp(0), (3,2,1) ) )\n",
    "        \n",
    "        if isinstance(layer, nn.ReLU):\n",
    "            print('\\nReLU')\n",
    "            \n",
    "            flat_num = torch.numel(Big_Kappa[-1][0])\n",
    "            nus = Big_Kappa[-1].flatten().view(n,flat_num)* d[pos_d] \n",
    "            origin_size = Big_Kappa[-1].size()\n",
    "            nu.append( nus.view(*origin_size) )\n",
    "            #print('d:',d[pos_d])\n",
    "            #print('nus:',nus)\n",
    "            I = ((Upper[pos_Upper] > 0) * (Lower[pos_Lower] < 0)).float()            \n",
    "            upper_relu_term.append( (Lower[pos_Lower]*(I*nus).clamp(min = 0)).t().sum(0) )\n",
    "            lower_relu_term.append( (Lower[pos_Lower]*(-1*I*nus).clamp(min = 0)).t().sum(0) )\n",
    "            \n",
    "        if idx == 3 : break\n",
    "            \n",
    "    #####  get nu_x and l1  #####        \n",
    "    # ---------------- conv\n",
    "    if nu_x[-1].dim() == 4 :\n",
    "        #nu_1\n",
    "        nu_x.append(torch.sum(nu[-1]*nu_x[-1],(3,2,1)))\n",
    "        nu_x[-1] = nu_x[-1].view(1, nu_x[-1].size()[0])\n",
    "\n",
    "        l1.append(torch.sum(nu[-1].abs(),(3,2,1)))\n",
    "        l1.append(l1[-1].view(1,l1[-1].size()[0]))\n",
    "            \n",
    "        #print('nu_x:',nu_x[-1].size())\n",
    "        #print('l1:',l1[-1].size())\n",
    "        \n",
    "    ##### get the upper lower bound #####\n",
    "    if D == None :\n",
    "            upper = sum(nu_b) + nu_x[-1] + epsilon*l1[-1]\n",
    "            lower = sum(nu_b) + nu_x[-1] - epsilon*l1[-1]\n",
    "        \n",
    "    else:\n",
    "        upper = sum(nu_b) + nu_x[-1] + epsilon*l1[-1] - sum(upper_relu_term) - sum(upper_max_pool_term)\n",
    "        lower = sum(nu_b) + nu_x[-1] - epsilon*l1[-1] + sum(lower_relu_term) + sum(lower_max_pool_term)\n",
    "    \n",
    "    \n",
    "    return upper, lower"
   ]
  },
  {
   "cell_type": "markdown",
   "metadata": {},
   "source": [
    "### foward"
   ]
  },
  {
   "cell_type": "code",
   "execution_count": 133,
   "metadata": {},
   "outputs": [
    {
     "name": "stdout",
     "output_type": "stream",
     "text": [
      "\n",
      "\n",
      " 0 Conv2d(3, 2, kernel_size=(2, 2), stride=(1, 1), padding=(2, 2))\n",
      "[torch.Size([1, 3, 2, 2]), torch.Size([1, 2, 5, 5])]\n",
      "dc nu: torch.Size([50, 3, 2, 2])\n",
      "\n",
      "\n",
      " 1 ReLU()\n",
      "[torch.Size([1, 3, 2, 2]), torch.Size([1, 2, 5, 5]), torch.Size([1, 2, 5, 5])]\n",
      "\n",
      "\n",
      " 2 MaxPool2d(kernel_size=3, stride=3, padding=0, dilation=1, ceil_mode=False)\n",
      "[torch.Size([1, 3, 2, 2]), torch.Size([1, 2, 5, 5]), torch.Size([1, 2, 5, 5]), torch.Size([1, 2, 1, 1])]\n",
      "\n",
      "\n",
      " 3 Conv2d(2, 1, kernel_size=(2, 2), stride=(2, 2), padding=(1, 1))\n",
      "[torch.Size([1, 3, 2, 2]), torch.Size([1, 2, 5, 5]), torch.Size([1, 2, 5, 5]), torch.Size([1, 2, 1, 1]), torch.Size([1, 1, 1, 1])]\n",
      "dc nu: torch.Size([1, 2, 1, 1])\n",
      "max-pool\n",
      "Kappa_orig: torch.Size([1, 2, 5, 5])\n",
      "\n",
      "ReLU\n",
      "dc nu: torch.Size([1, 3, 2, 2])\n",
      "\n",
      "\n",
      "lower: tensor([[-0.3299]], grad_fn=<AddBackward0>)\n",
      "upper: tensor([[-0.3231]], grad_fn=<SubBackward0>)\n"
     ]
    }
   ],
   "source": [
    "in_pic = x\n",
    "out_layer_size = [in_pic.size()]\n",
    "net = []\n",
    "\n",
    "lower_bds = []\n",
    "upper_bds= []\n",
    "D = []\n",
    "D_bar = []\n",
    "\n",
    "uR_bds = []\n",
    "lR_bds = []\n",
    "\n",
    "bar_upper_bds = []\n",
    "bar_lower_bds = []\n",
    "\n",
    "UNFOLD_shape = []\n",
    "\n",
    "# get each layer's output size\n",
    "for idx,layer in enumerate(model):\n",
    "    \n",
    "    print('\\n\\n',idx,layer)\n",
    "    \n",
    "    # save the pic size after each layer\n",
    "    out_pic = layer(in_pic)\n",
    "    out_layer_size.append(out_pic.size())\n",
    "    in_pic = out_pic\n",
    "    \n",
    "    # stack the net\n",
    "    net.append(layer)\n",
    "    \n",
    "    print(out_layer_size)\n",
    "    \n",
    "    if isinstance(layer, nn.Conv2d):\n",
    "\n",
    "        if idx == 0:\n",
    "            upper, lower = get_upper_lower(x, epsilon, net, out_layer_size)\n",
    "        else:\n",
    "            upper, lower = get_upper_lower(x, epsilon, net, out_layer_size,\n",
    "                                           D, lower_bds, upper_bds, \n",
    "                                           D_bar,bar_lower_bds, bar_upper_bds)\n",
    "\n",
    "        lower_bds.append(lower)\n",
    "        upper_bds.append(upper)\n",
    "        \n",
    "        #print('lower:',lower_bds[-1])\n",
    "        #print('upper:',upper_bds[-1])\n",
    "    \n",
    "    if isinstance(layer, nn.ReLU):\n",
    "\n",
    "        d = get_matrix_d(lower_bds[-1],upper_bds[-1]).t()\n",
    "        #print('d:',d)\n",
    "        D.append(d)\n",
    "\n",
    "        uR, lR = get_lR_uR(lower_bds[-1], upper_bds[-1])\n",
    "        \n",
    "        uR_bds.append(uR)\n",
    "        lR_bds.append(lR)\n",
    "        \n",
    "        #print('uR:',uR_bds[-1])\n",
    "        #print('lR:',lR_bds[-1])\n",
    "    \n",
    "    if isinstance(layer, nn.MaxPool2d):\n",
    "        \n",
    "        kM = layer.kernel_size\n",
    "        u_bar, l_bar = get_bar_u_l(lR_bds[-1], uR_bds[-1], out_layer_size[-2], kM)\n",
    "        \n",
    "        bar_upper_bds.append(u_bar)\n",
    "        bar_lower_bds.append(l_bar)\n",
    "        #print('u_bar:\\n',u_bar)\n",
    "        #print('l_bar:\\n',l_bar)\n",
    "        \n",
    "        u_ = u_bar.flatten().unsqueeze(0)\n",
    "        l_ = l_bar.flatten().unsqueeze(0)\n",
    "        \n",
    "        d_bar = get_matrix_d(l_,u_).t()\n",
    "        d_bar = d_bar.view(*(u_bar.size()))\n",
    "        D_bar.append(d_bar)\n",
    "        #print('d_bar:\\n',d_bar)\n",
    "                           \n",
    "    if idx == 3:\n",
    "        break\n",
    "\n",
    "print('\\n')\n",
    "print('lower:',lower_bds[-1])\n",
    "print('upper:',upper_bds[-1])"
   ]
  },
  {
   "cell_type": "markdown",
   "metadata": {},
   "source": [
    "### test 100 thousands samples"
   ]
  },
  {
   "cell_type": "code",
   "execution_count": 119,
   "metadata": {},
   "outputs": [],
   "source": [
    "def check_corectness(test_num, epsilon, X, net, upper, lower):\n",
    "    \n",
    "    random = []\n",
    "    for i in range(test_num):\n",
    "        # -------------- conv\n",
    "        a = np.random.uniform(-epsilon,epsilon,(X.size(1),X.size(2),X.size(3)))\n",
    "        \n",
    "        # -------------- linear\n",
    "        #a = np.random.uniform(-epsilon,epsilon,(X.size(1)))\n",
    "        random.append(a)\n",
    "\n",
    "    random = torch.from_numpy(np.array(random)).float()\n",
    "    # -------------- conv\n",
    "    X = X.view(X.size(1),X.size(2),X.size(3)).float()\n",
    "    \n",
    "    # -------------- linear\n",
    "    #X = X.view(X.size(1)).float()\n",
    "\n",
    "    test_x = random + X\n",
    "    \n",
    "    out = net(Variable(test_x))\n",
    "    out = out.view(test_num,torch.numel(out[0]))\n",
    "    #print(out[0])\n",
    "\n",
    "    a = out <= upper\n",
    "    b = out >= lower\n",
    "    \n",
    "    check = torch.sum(a*b)\n",
    "    #print(a*b)\n",
    "    correct_num = torch.numel(out)\n",
    "    \n",
    "    if check == correct_num :\n",
    "        print(\"Correct ! \")\n",
    "    else :\n",
    "        print(\"False!\")\n",
    "    \n",
    "    \n",
    "    return out"
   ]
  },
  {
   "cell_type": "markdown",
   "metadata": {},
   "source": [
    "##### test  uM , lM"
   ]
  },
  {
   "cell_type": "code",
   "execution_count": 100,
   "metadata": {},
   "outputs": [
    {
     "name": "stdout",
     "output_type": "stream",
     "text": [
      "Correct ! \n"
     ]
    }
   ],
   "source": [
    "test_y = check_corectness(test_num = 100000, epsilon = 0.01, X = x, net = model[:3], upper = UM_bds[-1], lower = LM_bds[-1])"
   ]
  },
  {
   "cell_type": "markdown",
   "metadata": {},
   "source": [
    "##### test last bound"
   ]
  },
  {
   "cell_type": "code",
   "execution_count": 101,
   "metadata": {},
   "outputs": [
    {
     "name": "stdout",
     "output_type": "stream",
     "text": [
      "lower: tensor([[-0.3396]], grad_fn=<AddBackward0>)\n",
      "upper: tensor([[-0.3384]], grad_fn=<SubBackward0>)\n"
     ]
    }
   ],
   "source": [
    "print('lower:',lower_bds[-1])\n",
    "print('upper:',upper_bds[-1])"
   ]
  },
  {
   "cell_type": "code",
   "execution_count": 102,
   "metadata": {},
   "outputs": [
    {
     "name": "stdout",
     "output_type": "stream",
     "text": [
      "Correct ! \n"
     ]
    }
   ],
   "source": [
    "test_y = check_corectness(test_num = 100000, epsilon = 0.01, X = x, net = model, upper = upper_bds[-1], lower = lower_bds[-1])"
   ]
  },
  {
   "cell_type": "markdown",
   "metadata": {},
   "source": [
    "### visualize"
   ]
  },
  {
   "cell_type": "code",
   "execution_count": 53,
   "metadata": {},
   "outputs": [],
   "source": [
    "import matplotlib.pyplot as plt\n",
    "import seaborn\n",
    "import matplotlib.patches as patches\n",
    "from scipy.spatial import HalfspaceIntersection\n",
    "\n",
    "%matplotlib inline\n",
    "seaborn.set(font_scale=2)\n",
    "seaborn.set_style(\"white\")"
   ]
  },
  {
   "cell_type": "code",
   "execution_count": 66,
   "metadata": {},
   "outputs": [
    {
     "name": "stdout",
     "output_type": "stream",
     "text": [
      "zl: [-0.23830041 -0.43771136 -0.43402678 -0.36572698]\n",
      "zu: [-0.23205236 -0.4092722  -0.4117311  -0.34627238]\n"
     ]
    }
   ],
   "source": [
    "## lower bound : tensor into numpy\n",
    "zl = lower_bds[-1].squeeze(0).data.numpy()\n",
    "zu = upper_bds[-1].squeeze(0).data.numpy()\n",
    "out = test_y.data.numpy()\n",
    "\n",
    "print('zl:',zl)\n",
    "print('zu:',zu)"
   ]
  },
  {
   "cell_type": "code",
   "execution_count": 73,
   "metadata": {},
   "outputs": [
    {
     "data": {
      "text/plain": [
       "<matplotlib.patches.Rectangle at 0x1928ceaffd0>"
      ]
     },
     "execution_count": 73,
     "metadata": {},
     "output_type": "execute_result"
    },
    {
     "data": {
      "image/png": "[encoded data removed]",
      "text/plain": [
       "<Figure size 360x360 with 1 Axes>"
      ]
     },
     "metadata": {},
     "output_type": "display_data"
    }
   ],
   "source": [
    "## plot the out points (red points)\n",
    "# wheather it is over the upper/lower bound points (blue points)\n",
    "\n",
    "fig, ax = plt.subplots(figsize=(5,5))\n",
    "ax.scatter(out[:,2],out[:,3],s=5,c='orange',marker='o',alpha=0.5,label='C1')\n",
    "ax.scatter(zl[2],zl[3],s=60,c='blue',marker='o',alpha=0.5,label='C1')\n",
    "ax.scatter(zu[2],zu[3],s=60,c='blue',marker='o',alpha=0.5,label='C1')\n",
    "\n",
    "ax.text(zl[2]-0.001, zl[3]-0.001, \"[%.4f , %.4f]\"%(zl[0],zl[1]), ha=\"center\", va=\"center\", size=10)\n",
    "ax.text(zu[2]+0.001, zu[3]+0.001, \"[%.4f , %.4f]\"%(zu[0],zu[1]), ha=\"center\", va=\"center\", size=10)\n",
    "\n",
    "ax.add_patch(patches.Rectangle((zl[2], zl[3]), zu[2]-zl[2], zu[3]-zl[3], fill=False))"
   ]
  },
  {
   "cell_type": "markdown",
   "metadata": {},
   "source": [
    "### test tools"
   ]
  },
  {
   "cell_type": "markdown",
   "metadata": {},
   "source": [
    "##### kernel move"
   ]
  },
  {
   "cell_type": "code",
   "execution_count": 323,
   "metadata": {
    "scrolled": true
   },
   "outputs": [
    {
     "data": {
      "text/plain": [
       "tensor([[[[ 0.,  1.,  2.,  3.,  4.],\n",
       "          [ 5.,  6.,  7.,  8.,  9.],\n",
       "          [10., 11., 12., 13., 14.],\n",
       "          [15., 16., 17., 18., 19.],\n",
       "          [20., 21., 22., 23., 24.]],\n",
       "\n",
       "         [[25., 26., 27., 28., 29.],\n",
       "          [30., 31., 32., 33., 34.],\n",
       "          [35., 36., 37., 38., 39.],\n",
       "          [40., 41., 42., 43., 44.],\n",
       "          [45., 46., 47., 48., 49.]],\n",
       "\n",
       "         [[50., 51., 52., 53., 54.],\n",
       "          [55., 56., 57., 58., 59.],\n",
       "          [60., 61., 62., 63., 64.],\n",
       "          [65., 66., 67., 68., 69.],\n",
       "          [70., 71., 72., 73., 74.]]]])"
      ]
     },
     "execution_count": 323,
     "metadata": {},
     "output_type": "execute_result"
    }
   ],
   "source": [
    "x = torch.arange(75.)\n",
    "x = torch.reshape(x, (1 ,3, 5, 5))\n",
    "x"
   ]
  },
  {
   "cell_type": "code",
   "execution_count": 324,
   "metadata": {},
   "outputs": [
    {
     "name": "stdout",
     "output_type": "stream",
     "text": [
      "torch.Size([1, 3, 2, 2, 2, 2])\n",
      "torch.Size([1, 12, 4])\n",
      "tensor([[[ 0.,  1.,  5.,  6.],\n",
      "         [ 2.,  3.,  7.,  8.],\n",
      "         [10., 11., 15., 16.],\n",
      "         [12., 13., 17., 18.],\n",
      "         [25., 26., 30., 31.],\n",
      "         [27., 28., 32., 33.],\n",
      "         [35., 36., 40., 41.],\n",
      "         [37., 38., 42., 43.],\n",
      "         [50., 51., 55., 56.],\n",
      "         [52., 53., 57., 58.],\n",
      "         [60., 61., 65., 66.],\n",
      "         [62., 63., 67., 68.]]])\n"
     ]
    }
   ],
   "source": [
    "kc, kh, kw = 2, 2, 2  # kernel size\n",
    "dc, dh, dw = 2, 2, 2  # stride\n",
    "patches = x.unfold(2, kh, dh).unfold(3, kw, dw)\n",
    "unfold_shape = patches.size()\n",
    "print(unfold_shape)\n",
    "patches = patches.contiguous().view(patches.size(0), -1, kh*kw)\n",
    "print(patches.shape)\n",
    "print(patches)"
   ]
  },
  {
   "cell_type": "markdown",
   "metadata": {},
   "source": [
    "##### reversed block"
   ]
  },
  {
   "cell_type": "code",
   "execution_count": 325,
   "metadata": {},
   "outputs": [
    {
     "data": {
      "text/plain": [
       "torch.Size([1, 3, 4, 4])"
      ]
     },
     "execution_count": 325,
     "metadata": {},
     "output_type": "execute_result"
    }
   ],
   "source": [
    "# Reshape back\n",
    "patches_orig = patches.view(unfold_shape)\n",
    "output_h = unfold_shape[2] * unfold_shape[4]\n",
    "output_w = unfold_shape[3] * unfold_shape[5]\n",
    "patches_orig = patches_orig.permute(0, 1, 2, 4, 3, 5).contiguous()\n",
    "patches_orig = patches_orig.view(1, 3, output_h, output_w)\n",
    "patches_orig.shape"
   ]
  },
  {
   "cell_type": "code",
   "execution_count": 326,
   "metadata": {},
   "outputs": [
    {
     "data": {
      "text/plain": [
       "tensor([[[[ 0.,  1.,  2.,  3.],\n",
       "          [ 5.,  6.,  7.,  8.],\n",
       "          [10., 11., 12., 13.],\n",
       "          [15., 16., 17., 18.]],\n",
       "\n",
       "         [[25., 26., 27., 28.],\n",
       "          [30., 31., 32., 33.],\n",
       "          [35., 36., 37., 38.],\n",
       "          [40., 41., 42., 43.]],\n",
       "\n",
       "         [[50., 51., 52., 53.],\n",
       "          [55., 56., 57., 58.],\n",
       "          [60., 61., 62., 63.],\n",
       "          [65., 66., 67., 68.]]]])"
      ]
     },
     "execution_count": 326,
     "metadata": {},
     "output_type": "execute_result"
    }
   ],
   "source": [
    "patches_orig"
   ]
  },
  {
   "cell_type": "markdown",
   "metadata": {},
   "source": [
    "##### pad (rtght and bottem)"
   ]
  },
  {
   "cell_type": "code",
   "execution_count": 328,
   "metadata": {},
   "outputs": [
    {
     "data": {
      "text/plain": [
       "tensor([[[[ 0.,  1.,  2.,  3.,  0.],\n",
       "          [ 4.,  5.,  6.,  7.,  0.],\n",
       "          [ 8.,  9., 10., 11.,  0.],\n",
       "          [12., 13., 14., 15.,  0.],\n",
       "          [ 0.,  0.,  0.,  0.,  0.]],\n",
       "\n",
       "         [[16., 17., 18., 19.,  0.],\n",
       "          [20., 21., 22., 23.,  0.],\n",
       "          [24., 25., 26., 27.,  0.],\n",
       "          [28., 29., 30., 31.,  0.],\n",
       "          [ 0.,  0.,  0.,  0.,  0.]],\n",
       "\n",
       "         [[32., 33., 34., 35.,  0.],\n",
       "          [36., 37., 38., 39.,  0.],\n",
       "          [40., 41., 42., 43.,  0.],\n",
       "          [44., 45., 46., 47.,  0.],\n",
       "          [ 0.,  0.,  0.,  0.,  0.]]]])"
      ]
     },
     "execution_count": 328,
     "metadata": {},
     "output_type": "execute_result"
    }
   ],
   "source": [
    "t4d = torch.arange(48.).reshape(1, 3, 4, 4)\n",
    "p1d = (0,1,0,1)\n",
    "out = F.pad(t4d, p1d, \"constant\", 0) \n",
    "out"
   ]
  },
  {
   "cell_type": "code",
   "execution_count": null,
   "metadata": {},
   "outputs": [],
   "source": []
  }
 ],
 "metadata": {
  "kernelspec": {
   "display_name": "Python 3",
   "language": "python",
   "name": "python3"
  },
  "language_info": {
   "codemirror_mode": {
    "name": "ipython",
    "version": 3
   },
   "file_extension": ".py",
   "mimetype": "text/x-python",
   "name": "python",
   "nbconvert_exporter": "python",
   "pygments_lexer": "ipython3",
   "version": "3.6.5"
  }
 },
 "nbformat": 4,
 "nbformat_minor": 2
}
